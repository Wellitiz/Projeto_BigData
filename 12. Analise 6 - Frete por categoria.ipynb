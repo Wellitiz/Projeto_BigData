{
 "cells": [
  {
   "cell_type": "markdown",
   "metadata": {},
   "source": [
    "# **Analise 6**\n",
    "\n",
    "Com essa analise foi possivel inferir quais categorias de produtos possuem os fretes mais caros e quais possuem os fretes mais baratos."
   ]
  },
  {
   "cell_type": "markdown",
   "metadata": {},
   "source": [
    "### **Importando Bibliotecas**"
   ]
  },
  {
   "cell_type": "code",
   "execution_count": 1,
   "metadata": {},
   "outputs": [],
   "source": [
    "import pandas as pd"
   ]
  },
  {
   "cell_type": "markdown",
   "metadata": {},
   "source": [
    "#### **Importando Tabelas** "
   ]
  },
  {
   "cell_type": "code",
   "execution_count": 2,
   "metadata": {},
   "outputs": [],
   "source": [
    "orders = pd.read_csv('./Files/Dataset_tratado/df_order_dataset.csv')\n",
    "order_items = pd.read_csv('./Files/Dataset_tratado/df_order_itens.csv')\n",
    "products = pd.read_csv('./Files/Dataset_tratado/df_products_dataset.csv')"
   ]
  },
  {
   "cell_type": "markdown",
   "metadata": {},
   "source": [
    "### **Merges**\n",
    "* Esse trecho de código utiliza o Pandas para realizar junções (merges) entre DataFrames. Aqui estão as explicações linha por linha:"
   ]
  },
  {
   "cell_type": "markdown",
   "metadata": {},
   "source": [
    "* Nesta linha, os DataFrames order_items e products estão sendo mesclados (merged) internamente (inner join) com base na coluna 'product_id'. Isso cria um novo DataFrame chamado merged_data, que contém as colunas de ambos os DataFrames, onde há correspondência nos valores da coluna 'product_id'.\n",
    "* Agora, o DataFrame resultante do primeiro merge (merged_data) está sendo mesclado com o DataFrame orders com base na coluna 'order_id', também usando um inner join. Isso amplia ainda mais o merged_data, adicionando as colunas do DataFrame orders onde há correspondência nos valores da coluna 'order_id'."
   ]
  },
  {
   "cell_type": "code",
   "execution_count": 3,
   "metadata": {},
   "outputs": [],
   "source": [
    "merged_data = pd.merge(order_items, products, on='product_id', how='inner')\n",
    "merged_data = pd.merge(merged_data, orders, on='order_id', how='inner')"
   ]
  },
  {
   "cell_type": "code",
   "execution_count": 4,
   "metadata": {},
   "outputs": [],
   "source": [
    "#Criação de uma nova coluna:\n",
    "merged_data['total_cost'] = merged_data['price'] + merged_data['freight_value']\n",
    "\n",
    "#Agrupamento e cálculo da média\n",
    "avg_cost_by_category = merged_data.groupby('product_category_name')['total_cost'].mean()\n",
    "\n",
    "#Ordenação das categorias por custo médio\n",
    "sorted_categories = avg_cost_by_category.sort_values(ascending=False)"
   ]
  },
  {
   "cell_type": "markdown",
   "metadata": {},
   "source": [
    "### Resultados\n",
    "* Essas linhas de código imprimem as categorias de produtos com os fretes mais caros e mais baratos, respectivamente, utilizando a Série sorted_categories gerada anteriormente."
   ]
  },
  {
   "cell_type": "code",
   "execution_count": 5,
   "metadata": {},
   "outputs": [
    {
     "name": "stdout",
     "output_type": "stream",
     "text": [
      "Categorias com os fretes mais caros:\n",
      "product_category_name\n",
      "pcs                            1147.486231\n",
      "portateis_casa_forno_e_cafe     674.601370\n",
      "eletrodomesticos_2              511.725195\n",
      "agro_industria_e_comercio       369.918932\n",
      "instrumentos_musicais           310.579293\n",
      "Name: total_cost, dtype: float64\n",
      "\n",
      "Categorias com os fretes mais baratos:\n",
      "product_category_name\n",
      "fashion_roupa_feminina    71.520889\n",
      "cds_dvds_musicais         68.213571\n",
      "fraldas_higiene           55.302432\n",
      "flores                    48.451818\n",
      "casa_conforto_2           39.019333\n",
      "Name: total_cost, dtype: float64\n"
     ]
    }
   ],
   "source": [
    "print(\"Categorias com os fretes mais caros:\")\n",
    "print(sorted_categories.head())\n",
    "\n",
    "print(\"\\nCategorias com os fretes mais baratos:\")\n",
    "print(sorted_categories.tail())"
   ]
  }
 ],
 "metadata": {
  "kernelspec": {
   "display_name": "Python 3",
   "language": "python",
   "name": "python3"
  },
  "language_info": {
   "codemirror_mode": {
    "name": "ipython",
    "version": 3
   },
   "file_extension": ".py",
   "mimetype": "text/x-python",
   "name": "python",
   "nbconvert_exporter": "python",
   "pygments_lexer": "ipython3",
   "version": "3.12.0"
  }
 },
 "nbformat": 4,
 "nbformat_minor": 2
}
