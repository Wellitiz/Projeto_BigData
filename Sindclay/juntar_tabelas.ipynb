{
 "cells": [
  {
   "cell_type": "code",
   "execution_count": 1,
   "metadata": {},
   "outputs": [],
   "source": [
    "import pandas as pd\n",
    "import numpy as np"
   ]
  },
  {
   "cell_type": "code",
   "execution_count": 3,
   "metadata": {},
   "outputs": [],
   "source": [
    "reviews = \"https://raw.githubusercontent.com/Wellitiz/Projeto_BigData/main/dataset/olist_order_reviews_dataset.csv\"\n",
    "orders = \"https://raw.githubusercontent.com/Wellitiz/Projeto_BigData/main/dataset/olist_orders_dataset.csv\""
   ]
  },
  {
   "cell_type": "code",
   "execution_count": 6,
   "metadata": {},
   "outputs": [],
   "source": [
    "df_reviews = pd.read_csv(reviews)\n",
    "df_orders = pd.read_csv(orders)"
   ]
  },
  {
   "cell_type": "code",
   "execution_count": 23,
   "metadata": {},
   "outputs": [],
   "source": [
    "#df_reviews.info()"
   ]
  },
  {
   "cell_type": "code",
   "execution_count": 22,
   "metadata": {},
   "outputs": [],
   "source": [
    "#df_orders.info()"
   ]
  },
  {
   "cell_type": "code",
   "execution_count": 15,
   "metadata": {},
   "outputs": [],
   "source": [
    "# Junção das tabelas que possuem a coluna 'order_id' em comum\n",
    "df_reviews_orders = pd.merge(df_reviews, df_orders, on=\"order_id\")"
   ]
  },
  {
   "cell_type": "code",
   "execution_count": 20,
   "metadata": {},
   "outputs": [],
   "source": [
    "#display(df_reviews_orders)"
   ]
  },
  {
   "cell_type": "code",
   "execution_count": 21,
   "metadata": {},
   "outputs": [],
   "source": [
    "#df_reviews_orders.info()"
   ]
  },
  {
   "cell_type": "code",
   "execution_count": 25,
   "metadata": {},
   "outputs": [],
   "source": [
    "df_customer = pd.read_csv(\"https://raw.githubusercontent.com/Wellitiz/Projeto_BigData/main/CSV%20Tratados/csv_olist_customers_dataset.csv\")\n",
    "df_geolocation = pd.read_csv(\"https://raw.githubusercontent.com/Wellitiz/Projeto_BigData/main/CSV%20Tratados/t_olist_geolocation_dataset.csv\")\n",
    "df_items = pd.read_csv(\"https://raw.githubusercontent.com/Wellitiz/Projeto_BigData/main/CSV%20Tratados/csv_olist_order_items_dataset.csv\")\n",
    "df_payments = pd.read_csv(\"https://raw.githubusercontent.com/Wellitiz/Projeto_BigData/main/CSV%20Tratados/t_olist_order_payments_dataset.csv\")\n",
    "df_reviews = pd.read_csv(\"https://raw.githubusercontent.com/Wellitiz/Projeto_BigData/main/CSV%20Tratados/csv_olist_order_reviews_dataset.csv\")\n",
    "df_orders = pd.read_csv(\"https://raw.githubusercontent.com/Wellitiz/Projeto_BigData/main/CSV%20Tratados/t_olist_orders_dataset.csv\")\n",
    "df_products = pd.read_csv(\"https://raw.githubusercontent.com/Wellitiz/Projeto_BigData/main/CSV%20Tratados/olist_products_dataset.csv\")\n",
    "df_sellers = pd.read_csv(\"https://raw.githubusercontent.com/Wellitiz/Projeto_BigData/main/CSV%20Tratados/olist_sellers_dataset_cidade_tratado.csv\")\n",
    "df_category_translate = pd.read_csv(\"https://raw.githubusercontent.com/Wellitiz/Projeto_BigData/main/CSV%20Tratados/product_category_name_translation.csv\")"
   ]
  }
 ],
 "metadata": {
  "kernelspec": {
   "display_name": "base",
   "language": "python",
   "name": "python3"
  },
  "language_info": {
   "codemirror_mode": {
    "name": "ipython",
    "version": 3
   },
   "file_extension": ".py",
   "mimetype": "text/x-python",
   "name": "python",
   "nbconvert_exporter": "python",
   "pygments_lexer": "ipython3",
   "version": "3.11.5"
  }
 },
 "nbformat": 4,
 "nbformat_minor": 2
}
