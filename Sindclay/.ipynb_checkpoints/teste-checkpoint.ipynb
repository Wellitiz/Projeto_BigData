{
 "cells": [
  {
   "cell_type": "code",
   "execution_count": 1,
   "metadata": {},
   "outputs": [],
   "source": [
    "import pandas as pd\n",
    "from unidecode import unidecode"
   ]
  },
  {
   "cell_type": "code",
   "execution_count": 2,
   "metadata": {},
   "outputs": [],
   "source": [
    "# Exemplo de DataFrame com a coluna 'CITY' contendo nomes de cidades\n",
    "data = {'CITY': ['são paulo', 'sãopaulo', 'sa£o paulo', 'sp', 'rio de janeiro', 'riodejaneiro', 'rj']}\n",
    "df = pd.DataFrame(data)"
   ]
  },
  {
   "cell_type": "code",
   "execution_count": 3,
   "metadata": {},
   "outputs": [],
   "source": [
    "# Função para remover acentos e padronizar os nomes\n",
    "def padronizar_nomes(nome):\n",
    "    nome_sem_acentos = unidecode(nome.lower())  # Remover acentos e converter para minúsculas\n",
    "    return nome_sem_acentos"
   ]
  },
  {
   "cell_type": "code",
   "execution_count": 4,
   "metadata": {},
   "outputs": [],
   "source": [
    "# Aplicar a função aos valores da coluna 'CITY'\n",
    "df['CITY'] = df['CITY'].apply(padronizar_nomes)\n"
   ]
  },
  {
   "cell_type": "code",
   "execution_count": 5,
   "metadata": {},
   "outputs": [],
   "source": [
    "# Mapeamento de nomes corretos\n",
    "mapeamento = {\n",
    "    'saopaulo': 'sao paulo',\n",
    "    'sp': 'sao paulo',\n",
    "    'riodejaneiro': 'rio de janeiro',\n",
    "    'rj': 'rio de janeiro'\n",
    "}"
   ]
  },
  {
   "cell_type": "code",
   "execution_count": 6,
   "metadata": {},
   "outputs": [],
   "source": [
    "# Substituir valores no DataFrame\n",
    "df['CITY'] = df['CITY'].replace(mapeamento)"
   ]
  },
  {
   "cell_type": "code",
   "execution_count": 7,
   "metadata": {},
   "outputs": [],
   "source": [
    "# Remover duplicatas após a padronização\n",
    "df = df.drop_duplicates(subset='CITY')"
   ]
  },
  {
   "cell_type": "code",
   "execution_count": 8,
   "metadata": {},
   "outputs": [
    {
     "name": "stdout",
     "output_type": "stream",
     "text": [
      "             CITY\n",
      "0       sao paulo\n",
      "2     saPSo paulo\n",
      "4  rio de janeiro\n"
     ]
    }
   ],
   "source": [
    "# Exibir o DataFrame após as substituições\n",
    "print(df)"
   ]
  }
 ],
 "metadata": {
  "kernelspec": {
   "display_name": "Python 3 (ipykernel)",
   "language": "python",
   "name": "python3"
  },
  "language_info": {
   "codemirror_mode": {
    "name": "ipython",
    "version": 3
   },
   "file_extension": ".py",
   "mimetype": "text/x-python",
   "name": "python",
   "nbconvert_exporter": "python",
   "pygments_lexer": "ipython3",
   "version": "3.11.5"
  }
 },
 "nbformat": 4,
 "nbformat_minor": 2
}
