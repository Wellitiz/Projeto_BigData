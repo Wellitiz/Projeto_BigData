{
 "cells": [
  {
   "cell_type": "markdown",
   "metadata": {},
   "source": [
    "# **Analise 5**\n",
    "\n",
    "Com essa analise foi possivel inferir qual período é realizado mais vendas (manhã, tarde, noite, madrugada)"
   ]
  },
  {
   "cell_type": "markdown",
   "metadata": {},
   "source": [
    "### **Importando Bibliotecas**"
   ]
  },
  {
   "cell_type": "code",
   "execution_count": 1,
   "metadata": {},
   "outputs": [],
   "source": [
    "import pandas as pd"
   ]
  },
  {
   "cell_type": "markdown",
   "metadata": {},
   "source": [
    "#### **Importando Tabelas** "
   ]
  },
  {
   "cell_type": "code",
   "execution_count": 2,
   "metadata": {},
   "outputs": [],
   "source": [
    "orders = pd.read_csv('./Files/Dataset_tratado/df_order_dataset.csv')"
   ]
  },
  {
   "cell_type": "markdown",
   "metadata": {},
   "source": [
    "**completed_orders = orders[orders['order_status'] == 'delivered'].copy():** Cria um novo DataFrame chamado completed_orders contendo apenas as linhas do DataFrame orders onde a coluna 'order_status' é igual a 'delivered'. O método copy() é utilizado para garantir que estamos criando uma cópia independente dos dados, evitando assim modificar o DataFrame original.\n",
    "\n",
    "**completed_orders['order_approved_at_hour'] = pd.to_datetime(completed_orders['order_approved_at_hour'], errors='coerce').dt.hour:** Converte a coluna 'order_approved_at_hour' de completed_orders para o formato de data e hora. O método pd.to_datetime() realiza essa conversão. O argumento errors='coerce' é utilizado para lidar com possíveis erros durante a conversão, substituindo-os por valores nulos (NaN). Em seguida, o atributo .dt.hour é usado para extrair apenas a parte da hora da data e hora convertida, e essa informação é armazenada em uma nova coluna chamada 'order_approved_at_hour'."
   ]
  },
  {
   "cell_type": "code",
   "execution_count": 3,
   "metadata": {},
   "outputs": [
    {
     "name": "stderr",
     "output_type": "stream",
     "text": [
      "C:\\Users\\ton98\\AppData\\Local\\Temp\\ipykernel_11064\\244953445.py:2: UserWarning: Could not infer format, so each element will be parsed individually, falling back to `dateutil`. To ensure parsing is consistent and as-expected, please specify a format.\n",
      "  completed_orders['order_approved_at_hour'] = pd.to_datetime(completed_orders['order_approved_at_hour'], errors='coerce').dt.hour\n"
     ]
    }
   ],
   "source": [
    "completed_orders = orders[orders['order_status'] == 'delivered'].copy()\n",
    "completed_orders['order_approved_at_hour'] = pd.to_datetime(completed_orders['order_approved_at_hour'], errors='coerce').dt.hour"
   ]
  },
  {
   "cell_type": "markdown",
   "metadata": {},
   "source": [
    "### **Definição de uma Função de Mapeamento**\n",
    "*Essa função recebe uma hora (hour) como entrada e retorna uma string representando o período do dia em que essa hora se encaixa (Madrugada, Manhã, Tarde ou Noite). Essa função será aplicada a uma coluna do DataFrame."
   ]
  },
  {
   "cell_type": "code",
   "execution_count": 4,
   "metadata": {},
   "outputs": [],
   "source": [
    "def map_period(hour):\n",
    "    if 0 <= hour < 6:\n",
    "        return 'Madrugada'\n",
    "    elif 6 <= hour < 12:\n",
    "        return 'Manhã'\n",
    "    elif 12 <= hour < 18:\n",
    "        return 'Tarde'\n",
    "    else:\n",
    "        return 'Noite'"
   ]
  },
  {
   "cell_type": "markdown",
   "metadata": {},
   "source": [
    "### **Aplicação da Função ao DataFrame**\n",
    "* A função map_period é aplicada à coluna 'order_approved_at_hour' do DataFrame completed_orders, e os resultados são armazenados em uma nova coluna chamada 'period'. Essa nova coluna contém os períodos do dia correspondentes às horas de aprovação dos pedidos."
   ]
  },
  {
   "cell_type": "code",
   "execution_count": 5,
   "metadata": {},
   "outputs": [],
   "source": [
    "completed_orders['period'] = completed_orders['order_approved_at_hour'].apply(map_period)"
   ]
  },
  {
   "cell_type": "markdown",
   "metadata": {},
   "source": [
    "### **Contagem de Vendas por Período**\n",
    "* É criada uma lista all_periods que representa todos os períodos possíveis. Em seguida, é gerada uma contagem de valores únicos na coluna 'period' do DataFrame completed_orders. O método .reindex() é utilizado para reorganizar os resultados na ordem específica dada por all_periods, e o argumento fill_value=0 preenche com zero os períodos que não têm vendas."
   ]
  },
  {
   "cell_type": "code",
   "execution_count": 6,
   "metadata": {},
   "outputs": [],
   "source": [
    "all_periods = ['Madrugada', 'Manhã', 'Tarde', 'Noite']\n",
    "\n",
    "sales_by_period = completed_orders['period'].value_counts().reindex(all_periods, fill_value=0)"
   ]
  },
  {
   "cell_type": "markdown",
   "metadata": {},
   "source": [
    "### **Iteração e Impressão dos Números de Vendas por Período**\n",
    "* Aqui, o código itera sobre os itens (period e count) do objeto sales_by_period (que é uma série de pandas representando a contagem de vendas por período) e imprime o número de vendas para cada período em minúsculas."
   ]
  },
  {
   "cell_type": "code",
   "execution_count": 7,
   "metadata": {},
   "outputs": [
    {
     "name": "stdout",
     "output_type": "stream",
     "text": [
      "Número de vendas à madrugada: 19911\n",
      "Número de vendas à manhã: 18147\n",
      "Número de vendas à tarde: 31258\n",
      "Número de vendas à noite: 27139\n"
     ]
    }
   ],
   "source": [
    "for period, count in sales_by_period.items():\n",
    "    print(f'Número de vendas à {period.lower()}: {count}')"
   ]
  },
  {
   "cell_type": "markdown",
   "metadata": {},
   "source": [
    "### **Identificação do Período com Maior Número de Vendas**\n",
    "* Aqui, a função .idxmax() é usada para encontrar o índice (período) com o valor máximo na série sales_by_period, e .max() retorna o valor máximo. Em seguida, o código imprime o período com o maior número de vendas em minúsculas e o respectivo número de vendas."
   ]
  },
  {
   "cell_type": "code",
   "execution_count": 8,
   "metadata": {},
   "outputs": [
    {
     "name": "stdout",
     "output_type": "stream",
     "text": [
      "\n",
      "O horário com o maior número de vendas foi: tarde com 31258 vendas.\n"
     ]
    }
   ],
   "source": [
    "max_period = sales_by_period.idxmax()\n",
    "max_count = sales_by_period.max()\n",
    "print(f'\\nO horário com o maior número de vendas foi: {max_period.lower()} com {max_count} vendas.')"
   ]
  }
 ],
 "metadata": {
  "kernelspec": {
   "display_name": "Python 3",
   "language": "python",
   "name": "python3"
  },
  "language_info": {
   "codemirror_mode": {
    "name": "ipython",
    "version": 3
   },
   "file_extension": ".py",
   "mimetype": "text/x-python",
   "name": "python",
   "nbconvert_exporter": "python",
   "pygments_lexer": "ipython3",
   "version": "3.12.0"
  }
 },
 "nbformat": 4,
 "nbformat_minor": 2
}
