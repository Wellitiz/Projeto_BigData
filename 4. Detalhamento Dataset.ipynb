{
 "cells": [
  {
   "cell_type": "markdown",
   "metadata": {},
   "source": [
    "# **API Kaggle**\n",
    "\n",
    "Nesta etapa iremos explicar como conectar a API do Kaggle para realizar o dowload do dataset que será utilizado no projeto."
   ]
  },
  {
   "cell_type": "markdown",
   "metadata": {},
   "source": [
    "## **Cadastrar-se no Kaggle**\n",
    "Para avançar no projeto é necessario realizar o cadastro na plataforma do kaggle para assim ter acesso a chave API key e conectar ao banco.\n",
    "\n",
    "#### **1. Acesse o Site:** \n",
    "* Vá para https://www.kaggle.com/ em seu navegador.\n",
    "\n",
    "#### **2. Criar uma Conta:** \n",
    "* Se você não tiver uma conta, clique em \"Sign Up\" para criar uma nova conta. Preencha as informações necessárias.\n",
    "\n",
    "#### **3. Confirmação de E-mail:** \n",
    "* Após o registro, verifique o seu e-mail e siga as instruções para confirmar a sua conta.\n",
    "\n",
    "\n",
    "\n",
    "\n",
    "## **Baixar a Chave de Acesso (API Key):**\n",
    "Para avançar no projeto é necessario realizar o cadastro na plataforma do kaggle para assim ter acesso a chave API key e conectar ao banco.\n",
    "\n",
    "#### **1. Faça Login:** \n",
    "* Faça login na sua conta Kaggle.\n",
    "\n",
    "#### **2. Acesse as Configurações:** \n",
    "* Clique na sua foto de perfil no canto superior direito e vá para \"Account\".\n",
    "\n",
    "#### **3. Role para Baixo até API:** \n",
    "* Role para baixo até encontrar a seção \"API\" nas configurações da conta.\n",
    "\n",
    "#### **4. Clique em \"Create New API Token\":** \n",
    "* Clique no botão \"Create New API Token\". Isso baixará um arquivo chamado **kaggle.json** para o seu computador.\n",
    "\n",
    "\n",
    "\n",
    "\n",
    "## **Configurar a Chave de Acesso no Ambiente Local:**\n",
    "Para avançar no projeto é necessario realizar o cadastro na plataforma do kaggle para assim ter acesso a chave API key e conectar ao banco.\n",
    "\n",
    "#### **1. Localização do Arquivo:** \n",
    "* Mova ou copie o arquivo kaggle.json para o diretório ~/.kaggle/ no seu sistema.\n",
    "\n",
    "#### **2. Verificação:** \n",
    "* Verifique se o arquivo kaggle.json está no diretório ~/.kaggle/."
   ]
  }
 ],
 "metadata": {
  "kernelspec": {
   "display_name": "Python 3",
   "language": "python",
   "name": "python3"
  },
  "language_info": {
   "codemirror_mode": {
    "name": "ipython",
    "version": 3
   },
   "file_extension": ".py",
   "mimetype": "text/x-python",
   "name": "python",
   "nbconvert_exporter": "python",
   "pygments_lexer": "ipython3",
   "version": "3.11.5"
  }
 },
 "nbformat": 4,
 "nbformat_minor": 2
}
