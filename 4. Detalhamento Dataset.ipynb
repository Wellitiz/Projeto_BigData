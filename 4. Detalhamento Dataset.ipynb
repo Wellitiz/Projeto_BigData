{
 "cells": [
  {
   "cell_type": "markdown",
   "metadata": {},
   "source": [
    "# **Brazilian E-Commerce Public Dataset by Olist**\n",
    "\n",
    "O conjunto de dados \"Brazilian E-Commerce Public Dataset by Olist\" é composto por várias tabelas que fornecem informações abrangentes sobre transações de comércio eletrônico. Vou explicar detalhadamente algumas das tabelas principais e seus campos:"
   ]
  },
  {
   "cell_type": "markdown",
   "metadata": {},
   "source": [
    "![Visualização da distribuição](https://github.com/Wellitiz/Projeto_BigData/blob/main/Files/Arquivos%20Projeto/Base.png?raw=true)"
   ]
  },
  {
   "cell_type": "markdown",
   "metadata": {},
   "source": [
    "## **Tabela \"olist_orders_dataset\":**\n",
    "Informações sobre pedidos, incluindo identificadores, status, datas de compra, aprovação, envio e entrega.\n",
    "\n",
    "* **order_id:** Identificador único para cada pedido (tipo de dado: string).\n",
    "* **customer_id:** Identificador único do cliente associado ao pedido (tipo de dado: string).\n",
    "* **order_status:** Estado do pedido (tipo de dado: string).\n",
    "* **order_purchase_timestamp:** Data e hora da compra (tipo de dado: timestamp).\n",
    "* **order_approved_at:** Data e hora da aprovação do pedido (tipo de dado: timestamp).\n",
    "* **order_delivered_carrier_date:** Data de envio do pedido pelo transportador (tipo de dado: timestamp).\n",
    "* **order_delivered_customer_date:** Data de entrega do pedido ao cliente (tipo de dado: timestamp).\n",
    "* **order_estimated_delivery_date:** Data estimada de entrega do pedido (tipo de dado: timestamp)."
   ]
  },
  {
   "cell_type": "markdown",
   "metadata": {},
   "source": [
    "## **Tabela \"olist_order_items_dataset\":**\n",
    "Detalhes sobre os itens de cada pedido, como identificadores, produtos, vendedores, preços e valores de frete.\n",
    "\n",
    "* **order_id:** Identificador único para cada pedido (tipo de dado: string).\n",
    "* **order_item_id:** Identificador único para cada item no pedido (tipo de dado: int).\n",
    "* **product_id:** Identificador único para cada produto (tipo de dado: string).\n",
    "* **seller_id:** Identificador único para cada vendedor (tipo de dado: string).\n",
    "* **shipping_limit_date:** Data limite para envio do item (tipo de dado: timestamp).\n",
    "* **price:** Preço do item (tipo de dado: float).\n",
    "* **freight_value:** Valor do frete para o item (tipo de dado: float)."
   ]
  },
  {
   "cell_type": "markdown",
   "metadata": {},
   "source": [
    "## **Tabela \"olist_products_dataset\":**\n",
    "Fornece dados detalhados sobre os produtos, incluindo categorias, comprimento, peso e dimensões, possibilitando análises de qualidade do produto e características de produtos mais propensos à insatisfação.\n",
    "\n",
    "* **product_id:** Identificador único para cada produto (tipo de dado: string).\n",
    "* **product_category_name:** Nome da categoria do produto (tipo de dado: string).\n",
    "* **product_name_length:** Comprimento do nome do produto (tipo de dado: int).\n",
    "* **product_description_length:** Comprimento da descrição do produto (tipo de dado: int).\n",
    "* **product_photos_qty:** Quantidade de fotos do produto (tipo de dado: int).\n",
    "* **product_weight_g:** Peso do produto em gramas (tipo de dado: float).\n",
    "* **product_length_cm:** Comprimento do produto em centímetros (tipo de dado: float).\n",
    "* **product_height_cm:** Altura do produto em centímetros (tipo de dado: float).\n",
    "* **product_width_cm:** Largura do produto em centímetros (tipo de dado: float)."
   ]
  },
  {
   "cell_type": "markdown",
   "metadata": {},
   "source": [
    "## **Tabela \"olist_customers_dataset\":**\n",
    "Contém informações sobre os clientes, como identificadores, códigos postais e localizações geográficas, permitindo análises de comportamento do cliente e distribuição geográfica.\n",
    "\n",
    "\n",
    "* **customer_id:** Identificador único do cliente (tipo de dado: string).\n",
    "* **customer_unique_id:** Identificador único e anônimo do cliente (tipo de dado: string).\n",
    "* **customer_zip_code_prefix:** Código postal do cliente (tipo de dado: int).\n",
    "* **customer_city:** Cidade do cliente (tipo de dado: string).\n",
    "* **customer_state:** Estado do cliente (tipo de dado: string)."
   ]
  },
  {
   "cell_type": "markdown",
   "metadata": {},
   "source": [
    "## **Tabela \"olist_sellers_dataset\":**\n",
    "Inclui dados sobre os vendedores, como identificadores, códigos postais e localizações geográficas, possibilitando análises sobre a distribuição geográfica dos vendedores.\n",
    "\n",
    "* **seller_id:** Identificador único do vendedor (tipo de dado: string).\n",
    "* **seller_zip_code_prefix:** Código postal do vendedor (tipo de dado: int).\n",
    "* **seller_city:** Cidade do vendedor (tipo de dado: string).\n",
    "* **seller_state:** Estado do vendedor (tipo de dado: string)."
   ]
  },
  {
   "cell_type": "markdown",
   "metadata": {},
   "source": [
    "## **Tabela \"olist_order_reviews_dataset\":**\n",
    "Contém avaliações dos clientes, incluindo pontuações, títulos e mensagens de comentários, proporcionando insights sobre a satisfação do cliente e feedbacks específicos.\n",
    "\n",
    "* **review_id:** Identificador único para cada avaliação (tipo de dado: string).\n",
    "* **order_id:** Identificador único para cada pedido associado à avaliação (tipo de dado: string).\n",
    "* **review_score:** Pontuação atribuída pelo cliente à avaliação (tipo de dado: int).\n",
    "* **review_comment_title:** Título do comentário da avaliação (tipo de dado: string).\n",
    "* **review_comment_message:** Mensagem do comentário da avaliação (tipo de dado: string).\n",
    "* **review_creation_date:** Data de criação da avaliação (tipo de dado: timestamp).\n",
    "* **review_answer_timestamp:** Data de resposta à avaliação (tipo de dado: timestamp)."
   ]
  },
  {
   "cell_type": "markdown",
   "metadata": {},
   "source": [
    "## **Tabela \"olist_order_payments_dataset\":**\n",
    "Detalhes sobre pagamentos, incluindo métodos de pagamento, número de parcelas e valores pagos.\n",
    "\n",
    "* **order_id:** Identificador único para cada pedido (tipo de dado: string).\n",
    "* **payment_sequential:** Número sequencial para indicar a ordem dos pagamentos para o mesmo pedido (tipo de dado: int).\n",
    "* **payment_type:** Método de pagamento utilizado (tipo de dado: string).\n",
    "* **payment_installments:** Número de parcelas do pagamento (tipo de dado: int).\n",
    "* **payment_value:** Valor do pagamento (tipo de dado: float)."
   ]
  },
  {
   "cell_type": "markdown",
   "metadata": {},
   "source": [
    "## **Tabela \"olist_geolocation_dataset\":**\n",
    "Oferece dados geográficos relacionados a códigos postais, latitude, longitude e localização, permitindo análises espaciais e geográficas.\n",
    "\n",
    "* **geolocation_zip_code_prefix:** Código postal da localização (tipo de dado: int).\n",
    "* **geolocation_lat:** Latitude da localização (tipo de dado: float).\n",
    "* **geolocation_lng:** Longitude da localização (tipo de dado: float).\n",
    "* **geolocation_city:** Cidade da localização (tipo de dado: string).\n",
    "* **geolocation_state:** Estado da localização (tipo de dado: string)."
   ]
  },
  {
   "cell_type": "markdown",
   "metadata": {},
   "source": [
    "## **Tabela \"product_category_name_translation\":**\n",
    "Traduções dos nomes das categorias de produtos presentes na tabela \"olist_products_dataset\", incluindo os nomes originais em português e suas traduções para o inglês.\n",
    "\n",
    "\n",
    "* **product_category_name:** Nome original da categoria de produto em português (tipo de dado: string).\n",
    "* **product_category_name_english:** Tradução do nome da categoria para o inglês (tipo de dado: string)."
   ]
  }
 ],
 "metadata": {
  "kernelspec": {
   "display_name": "Python 3",
   "language": "python",
   "name": "python3"
  },
  "language_info": {
   "codemirror_mode": {
    "name": "ipython",
    "version": 3
   },
   "file_extension": ".py",
   "mimetype": "text/x-python",
   "name": "python",
   "nbconvert_exporter": "python",
   "pygments_lexer": "ipython3",
   "version": "3.11.5"
  }
 },
 "nbformat": 4,
 "nbformat_minor": 2
}
