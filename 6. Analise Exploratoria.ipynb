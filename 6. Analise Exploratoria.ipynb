{
 "cells": [
  {
   "cell_type": "markdown",
   "metadata": {},
   "source": [
    "# **Analise Exploratória**\n",
    "\n",
    "A Análise Exploratória de Dados (AED) é uma etapa fundamental no processo de análise de dados. Seu objetivo principal é entender a estrutura, padrões, relações e características dos dados, fornecendo insights iniciais e orientando a direção da análise mais aprofundada. A AED é frequentemente realizada no início do ciclo de vida de um projeto de análise de dados. Aqui estão os principais aspectos da Análise Exploratória de Dados:"
   ]
  },
  {
   "cell_type": "markdown",
   "metadata": {},
   "source": [
    "## **Objetivos da Análise Exploratória de Dados:**\n",
    "\n",
    "#### **1. Entendimento Inicial:** \n",
    "* Ganhar uma visão geral dos dados para identificar padrões óbvios ou características distintas.\n",
    "\n",
    "#### **2. Detecção de Anomalias:** \n",
    "* Identificar outliers, valores ausentes ou quaisquer outras irregularidades nos dados.\n",
    "\n",
    "#### **3. Relações entre Variáveis:** \n",
    "* Explorar relações entre diferentes variáveis, identificando potenciais correlações ou padrões.\n",
    "\n",
    "#### **4. Distribuição de Variáveis:** \n",
    "* Compreender a distribuição de cada variável no conjunto de dados.\n",
    "\n",
    "#### **5. Sumarização Estatística:** \n",
    "* Calcular estatísticas descritivas, como médias, medianas, desvios padrão, etc.\n",
    "\n",
    "#### **6. Visualização de Dados:** \n",
    "* Utilizar gráficos e visualizações para representar os dados de forma compreensível.\n",
    "\n",
    "\n",
    "\n",
    "## **Documentação e Comunicação:**\n",
    "* Documente suas observações e resultados. Comunique descobertas importantes.\n",
    "\n",
    "A Análise Exploratória de Dados é um processo iterativo e contínuo. À medida que você avança na análise, novas questões podem surgir, levando a explorações mais detalhadas. A combinação de estatísticas descritivas e visualizações é essencial para obter insights abrangentes sobre os dados."
   ]
  },
  {
   "cell_type": "code",
   "execution_count": null,
   "metadata": {},
   "outputs": [],
   "source": [
    "!pip install streamlit"
   ]
  },
  {
   "cell_type": "code",
   "execution_count": null,
   "metadata": {},
   "outputs": [],
   "source": [
    "!pip install matplotlib"
   ]
  },
  {
   "cell_type": "code",
   "execution_count": null,
   "metadata": {},
   "outputs": [],
   "source": [
    "!pip install plotly"
   ]
  }
 ],
 "metadata": {
  "kernelspec": {
   "display_name": "Python 3",
   "language": "python",
   "name": "python3"
  },
  "language_info": {
   "codemirror_mode": {
    "name": "ipython",
    "version": 3
   },
   "file_extension": ".py",
   "mimetype": "text/x-python",
   "name": "python",
   "nbconvert_exporter": "python",
   "pygments_lexer": "ipython3",
   "version": "3.12.0"
  }
 },
 "nbformat": 4,
 "nbformat_minor": 2
}
