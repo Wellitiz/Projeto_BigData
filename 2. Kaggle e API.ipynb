{
 "cells": [
  {
   "cell_type": "markdown",
   "metadata": {},
   "source": [
    "# **Kaggle e API**\n",
    "\n",
    "Para o projeto vamos utilizar a base de Brazilian E-Commerce Public Dataset by Olist do site Kaggle.\n",
    "Vamos esplicar a base e como conectar API."
   ]
  },
  {
   "cell_type": "markdown",
   "metadata": {},
   "source": [
    "## **Sobre o Kaggle**\n",
    "O Kaggle é uma plataforma online que reúne cientistas de dados, pesquisadores e entusiastas para participar de competições, colaborar em projetos, compartilhar conjuntos de dados e aprimorar suas habilidades em ciência de dados e aprendizado de máquina. Fundada em 2010, a plataforma oferece uma variedade de recursos e ferramentas que facilitam a exploração e a prática de técnicas avançadas de análise de dados. Algumas características notáveis do Kaggle incluem:\n",
    "\n",
    "* Competições de Data Science\n",
    "* Datasets Públicos\n",
    "* Notebooks Colaborativos\n",
    "* Fóruns e Comunidade\n",
    "* Recursos de Aprendizado\n",
    "* Kernels\n",
    "* Desafios de Empresas\n",
    "* Portfólio Profissional\n",
    "\n",
    "O Kaggle é uma ferramenta valiosa para aprimorar habilidades em ciência de dados, aprender com especialistas da área, participar de projetos desafiadores e encontrar soluções para problemas do mundo real. Sua abordagem de comunidade e competição contribui para o avanço rápido e colaborativo no campo da ciência de dados."
   ]
  },
  {
   "cell_type": "markdown",
   "metadata": {},
   "source": [
    "## **Brazilian E-Commerce Public Dataset by Olist**\n",
    "O conjunto de dados \"Brazilian E-Commerce Public Dataset by Olist\" fornece informações detalhadas sobre pedidos feitos na Olist Store, uma das maiores lojas de departamentos no mercado brasileiro. Aqui está uma explicação detalhada:\n",
    "\n",
    "### **Resumo do Conjunto de Dados:**\n",
    "**Origem dos Dados:** Generosamente cedido pela Olist, a maior loja de departamentos do mercado brasileiro. A Olist conecta pequenas empresas a canais de venda, permitindo que esses comerciantes vendam produtos através da Olist Store e os enviem diretamente aos clientes usando parceiros logísticos da Olist.\n",
    "\n",
    "**Período de Dados:** Contém informações de 100 mil pedidos feitos na Olist Store entre 2016 e 2018 em vários marketplaces no Brasil.\n",
    "\n",
    "**Anonimização:** Os dados são reais, mas foram anonimizados para proteger a privacidade. Referências a empresas e parceiros foram substituídas pelos nomes das grandes casas de Game of Thrones.\n",
    "\n",
    "### **Conteúdo do Conjunto de Dados:**\n",
    "**Dimensões do Pedido:** \n",
    "* Status do pedido\n",
    "* Preço\n",
    "* Desempenho de pagamento\n",
    "* Frete\n",
    "\n",
    "**Informações sobre o Cliente:** \n",
    "* Localização do cliente\n",
    "* CEPs brasileiros relacionados às coordenadas lat/lng\n",
    "\n",
    "**Atributos do Produto:** \n",
    "* Dados relacionados aos produtos comprados\n",
    "\n",
    "**Avaliações dos Clientes:** \n",
    "* Avaliações escritas pelos clientes após a compra\n",
    "* Pesquisa de satisfação enviada por e-mail"
   ]
  }
 ],
 "metadata": {
  "kernelspec": {
   "display_name": "Python 3",
   "language": "python",
   "name": "python3"
  },
  "language_info": {
   "codemirror_mode": {
    "name": "ipython",
    "version": 3
   },
   "file_extension": ".py",
   "mimetype": "text/x-python",
   "name": "python",
   "nbconvert_exporter": "python",
   "pygments_lexer": "ipython3",
   "version": "3.12.0"
  }
 },
 "nbformat": 4,
 "nbformat_minor": 2
}
