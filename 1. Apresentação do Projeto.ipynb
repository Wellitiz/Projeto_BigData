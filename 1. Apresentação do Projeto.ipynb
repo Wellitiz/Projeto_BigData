{
 "cells": [
  {
   "cell_type": "markdown",
   "metadata": {},
   "source": [
    "# **Análise e Engenharia de Dados no E-commerce Brasileiro**\n",
    "\n",
    "O projeto em questão tem como objetivo simular o papel de engenheiros de dados em uma empresa de e-commerce, utilizando o conjunto de dados público chamado 'Brazilian E-Commerce Public Dataset by Olist'. A ideia é extrair insights valiosos para aprimorar as operações de negócios, otimizar a logística e melhorar a experiência do cliente."
   ]
  },
  {
   "cell_type": "markdown",
   "metadata": {},
   "source": [
    "### **Situação Problema:**\n",
    "Os grupos devem abordar três problemas principais:\n",
    "\n",
    "#### **1. Melhorar a Recomendação de Produtos e Personalizar a Experiência do Cliente:**\n",
    "* Como os dados podem ser utilizados para aprimorar a recomendação de produtos?\n",
    "* Como personalizar a experiência do cliente com base nos dados disponíveis?\n",
    "\n",
    "#### **2. Otimizar a Gestão de Inventário e Operações Logísticas:**\n",
    "* Quais insights podem ser obtidos para otimizar a gestão de inventário?\n",
    "* Como os dados podem ser utilizados para melhorar as operações logísticas?\n",
    "\n",
    "#### **3. Visualização de Dados para Decisões Estratégicas e Operacionais:**\n",
    "* De que maneira a visualização de dados pode auxiliar na tomada de decisões estratégicas e operacionais?"
   ]
  },
  {
   "cell_type": "markdown",
   "metadata": {},
   "source": [
    "## **Objetivos de Aprendizagem:**\n",
    "Os objetivos específicos de aprendizagem incluem:\n",
    "\n",
    "#### **1. Fundamentos do Python para Análise de Dados:**\n",
    "* Compreender e praticar os fundamentos do Python para análise de dados.\n",
    "\n",
    "#### **2. Integração de Python com Bancos de Dados e APIs:**\n",
    "* Explorar a integração de Python com bancos de dados e APIs para coletar dados relevantes.\n",
    "\n",
    "#### **3. Técnicas de Análise de Dados:**\n",
    "* Aplicar técnicas de análise de dados utilizando a biblioteca Pandas.\n",
    "\n",
    "#### **4. Visualização de Dados com Streamlit:**\n",
    "* Utilizar Streamlit para criar visualizações interativas e informativas dos dados.\n",
    "\n",
    "#### **5. Análise de Dados em Larga Escala com PySpark:**\n",
    "* Aplicar técnicas de análise de dados em larga escala utilizando PySpark."
   ]
  },
  {
   "cell_type": "markdown",
   "metadata": {},
   "source": [
    "## **Metodologia:**\n",
    "Os grupos devem responder às perguntas propostas, utilizando técnicas de manipulação e visualização de dados com Python e/ou PySpark. Isso envolverá a exploração do conjunto de dados, limpeza, transformação, análise e apresentação de insights de forma clara e compreensível.\n",
    "\n",
    "## **Resultados Esperados:**\n",
    "Espera-se que os grupos gerem insights valiosos para o negócio, contribuindo para aprimorar as operações, otimizar a logística e melhorar a experiência do cliente. Além disso, a aplicação prática das técnicas e ferramentas mencionadas será uma parte fundamental do aprendizado no módulo de Big Data da Engenharia de Dados."
   ]
  }
 ],
 "metadata": {
  "kernelspec": {
   "display_name": "Python 3",
   "language": "python",
   "name": "python3"
  },
  "language_info": {
   "codemirror_mode": {
    "name": "ipython",
    "version": 3
   },
   "file_extension": ".py",
   "mimetype": "text/x-python",
   "name": "python",
   "nbconvert_exporter": "python",
   "pygments_lexer": "ipython3",
   "version": "3.12.0"
  }
 },
 "nbformat": 4,
 "nbformat_minor": 2
}
