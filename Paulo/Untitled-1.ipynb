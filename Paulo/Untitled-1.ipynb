{
 "cells": [
  {
   "cell_type": "code",
   "execution_count": 7,
   "metadata": {},
   "outputs": [],
   "source": [
    "import pandas as pd\n",
    "import numpy as np\n",
    "from unidecode import unidecode"
   ]
  },
  {
   "cell_type": "code",
   "execution_count": 1,
   "metadata": {},
   "outputs": [
    {
     "ename": "NameError",
     "evalue": "name 'pd' is not defined",
     "output_type": "error",
     "traceback": [
      "\u001b[1;31m---------------------------------------------------------------------------\u001b[0m",
      "\u001b[1;31mNameError\u001b[0m                                 Traceback (most recent call last)",
      "\u001b[1;32mUntitled-1.ipynb Cell 2\u001b[0m line \u001b[0;36m1\n\u001b[1;32m----> <a href='vscode-notebook-cell:Untitled-1.ipynb?jupyter-notebook#W1sdW50aXRsZWQ%3D?line=0'>1</a>\u001b[0m df1 \u001b[39m=\u001b[39m pd\u001b[39m.\u001b[39mread_csv(\u001b[39mr\u001b[39m\u001b[39m\"\u001b[39m\u001b[39mC:\u001b[39m\u001b[39m\\\u001b[39m\u001b[39mUsers\u001b[39m\u001b[39m\\\u001b[39m\u001b[39mticam\u001b[39m\u001b[39m\\\u001b[39m\u001b[39mOneDrive\u001b[39m\u001b[39m\\\u001b[39m\u001b[39mÁrea de Trabalho\u001b[39m\u001b[39m\\\u001b[39m\u001b[39mProjeto ifood\u001b[39m\u001b[39m\\\u001b[39m\u001b[39mProjeto_BigData\u001b[39m\u001b[39m\\\u001b[39m\u001b[39mPaulo\u001b[39m\u001b[39m\\\u001b[39m\u001b[39mDados analisados\u001b[39m\u001b[39m\\\u001b[39m\u001b[39mt_olist_geolocation_dataset.csv\u001b[39m\u001b[39m\"\u001b[39m)\n\u001b[0;32m      <a href='vscode-notebook-cell:Untitled-1.ipynb?jupyter-notebook#W1sdW50aXRsZWQ%3D?line=2'>3</a>\u001b[0m df2 \u001b[39m=\u001b[39m pd\u001b[39m.\u001b[39mread_csv(\u001b[39mr\u001b[39m\u001b[39m\"\u001b[39m\u001b[39mC:\u001b[39m\u001b[39m\\\u001b[39m\u001b[39mUsers\u001b[39m\u001b[39m\\\u001b[39m\u001b[39mticam\u001b[39m\u001b[39m\\\u001b[39m\u001b[39mOneDrive\u001b[39m\u001b[39m\\\u001b[39m\u001b[39mÁrea de Trabalho\u001b[39m\u001b[39m\\\u001b[39m\u001b[39mProjeto ifood\u001b[39m\u001b[39m\\\u001b[39m\u001b[39mProjeto_BigData\u001b[39m\u001b[39m\\\u001b[39m\u001b[39mPaulo\u001b[39m\u001b[39m\\\u001b[39m\u001b[39mDados analisados\u001b[39m\u001b[39m\\\u001b[39m\u001b[39molist_products_dataset.csv\u001b[39m\u001b[39m\"\u001b[39m)\n\u001b[0;32m      <a href='vscode-notebook-cell:Untitled-1.ipynb?jupyter-notebook#W1sdW50aXRsZWQ%3D?line=4'>5</a>\u001b[0m \u001b[39mprint\u001b[39m(df1, df2)\n",
      "\u001b[1;31mNameError\u001b[0m: name 'pd' is not defined"
     ]
    }
   ],
   "source": [
    "#df1 = pd.read_csv(r\"C:\\Users\\ticam\\OneDrive\\Área de Trabalho\\Projeto ifood\\Projeto_BigData\\Paulo\\Dados analisados\\t_olist_geolocation_dataset.csv\")\n",
    "\n",
    "#df2 = pd.read_csv(r\"C:\\Users\\ticam\\OneDrive\\Área de Trabalho\\Projeto ifood\\Projeto_BigData\\Paulo\\Dados analisados\\olist_products_dataset.csv\")\n",
    "\n",
    "#print(df1, df2)"
   ]
  },
  {
   "cell_type": "code",
   "execution_count": 9,
   "metadata": {},
   "outputs": [],
   "source": [
    "arquivo1 = (r'C:\\Users\\ticam\\OneDrive\\Área de Trabalho\\Projeto ifood\\Projeto_BigData\\Paulo\\Dados analisados\\t_olist_geolocation_dataset.csv')\n",
    "tabela1 = pd.read_csv(arquivo1)\n",
    "\n",
    "arquivo2 = (r'C:\\Users\\ticam\\OneDrive\\Área de Trabalho\\Projeto ifood\\Projeto_BigData\\Paulo\\Dados analisados\\olist_products_dataset.csv')\n",
    "tabela2 = pd.read_csv(arquivo2)"
   ]
  },
  {
   "cell_type": "code",
   "execution_count": 10,
   "metadata": {},
   "outputs": [
    {
     "name": "stdout",
     "output_type": "stream",
     "text": [
      "   geolocation_zip_code_prefix geolocation_city_padronizada geolocation_state\n",
      "0                         1037                    sao paulo                SP\n",
      "1                         1046                    sao paulo                SP\n",
      "2                         1046                    sao paulo                SP\n",
      "3                         1041                    sao paulo                SP\n",
      "4                         1035                    sao paulo                SP\n",
      "                         product_id  product_category_name  \\\n",
      "0  1e9e8ef04dbcff4541ed26657ea517e5             perfumaria   \n",
      "1  3aa071139cb16b67ca9e5dea641aaa2f                  artes   \n",
      "2  96bd76ec8810374ed1b65e291975717f          esporte_lazer   \n",
      "3  cef67bcfe19066a932b7673e239eb23d                  bebes   \n",
      "4  9dc1a7de274444849c219cff195d0b71  utilidades_domesticas   \n",
      "\n",
      "   product_name_lenght  product_description_lenght  product_photos_qty  \\\n",
      "0                 40.0                       287.0                 1.0   \n",
      "1                 44.0                       276.0                 1.0   \n",
      "2                 46.0                       250.0                 1.0   \n",
      "3                 27.0                       261.0                 1.0   \n",
      "4                 37.0                       402.0                 4.0   \n",
      "\n",
      "   product_weight_g  product_length_cm  product_height_cm  product_width_cm  \n",
      "0             225.0               16.0               10.0              14.0  \n",
      "1            1000.0               30.0               18.0              20.0  \n",
      "2             154.0               18.0                9.0              15.0  \n",
      "3             371.0               26.0                4.0              26.0  \n",
      "4             625.0               20.0               17.0              13.0  \n"
     ]
    }
   ],
   "source": [
    "print(tabela1.head())\n",
    "print(tabela2.head())"
   ]
  },
  {
   "cell_type": "code",
   "execution_count": 25,
   "metadata": {},
   "outputs": [
    {
     "name": "stdout",
     "output_type": "stream",
     "text": [
      "        geolocation_state  geolocation_zip_code_prefix  \\\n",
      "0                      SP                         1037   \n",
      "1                      SP                         1046   \n",
      "2                      SP                         1046   \n",
      "3                      SP                         1041   \n",
      "4                      SP                         1035   \n",
      "...                   ...                          ...   \n",
      "1000158                RS                        99950   \n",
      "1000159                RS                        99900   \n",
      "1000160                RS                        99950   \n",
      "1000161                RS                        99980   \n",
      "1000162                RS                        99950   \n",
      "\n",
      "        geolocation_city_padronizada  product_category_name  \\\n",
      "0                          sao paulo             perfumaria   \n",
      "1                          sao paulo                  artes   \n",
      "2                          sao paulo          esporte_lazer   \n",
      "3                          sao paulo                  bebes   \n",
      "4                          sao paulo  utilidades_domesticas   \n",
      "...                              ...                    ...   \n",
      "1000158                     tapejara                    NaN   \n",
      "1000159               getulio vargas                    NaN   \n",
      "1000160                     tapejara                    NaN   \n",
      "1000161              david canabarro                    NaN   \n",
      "1000162                     tapejara                    NaN   \n",
      "\n",
      "                               product_id  product_name_lenght  \\\n",
      "0        1e9e8ef04dbcff4541ed26657ea517e5                 40.0   \n",
      "1        3aa071139cb16b67ca9e5dea641aaa2f                 44.0   \n",
      "2        96bd76ec8810374ed1b65e291975717f                 46.0   \n",
      "3        cef67bcfe19066a932b7673e239eb23d                 27.0   \n",
      "4        9dc1a7de274444849c219cff195d0b71                 37.0   \n",
      "...                                   ...                  ...   \n",
      "1000158                               NaN                  NaN   \n",
      "1000159                               NaN                  NaN   \n",
      "1000160                               NaN                  NaN   \n",
      "1000161                               NaN                  NaN   \n",
      "1000162                               NaN                  NaN   \n",
      "\n",
      "         product_description_lenght  product_photos_qty  product_weight_g  \\\n",
      "0                             287.0                 1.0             225.0   \n",
      "1                             276.0                 1.0            1000.0   \n",
      "2                             250.0                 1.0             154.0   \n",
      "3                             261.0                 1.0             371.0   \n",
      "4                             402.0                 4.0             625.0   \n",
      "...                             ...                 ...               ...   \n",
      "1000158                         NaN                 NaN               NaN   \n",
      "1000159                         NaN                 NaN               NaN   \n",
      "1000160                         NaN                 NaN               NaN   \n",
      "1000161                         NaN                 NaN               NaN   \n",
      "1000162                         NaN                 NaN               NaN   \n",
      "\n",
      "         product_length_cm  product_height_cm  product_width_cm  \n",
      "0                     16.0               10.0              14.0  \n",
      "1                     30.0               18.0              20.0  \n",
      "2                     18.0                9.0              15.0  \n",
      "3                     26.0                4.0              26.0  \n",
      "4                     20.0               17.0              13.0  \n",
      "...                    ...                ...               ...  \n",
      "1000158                NaN                NaN               NaN  \n",
      "1000159                NaN                NaN               NaN  \n",
      "1000160                NaN                NaN               NaN  \n",
      "1000161                NaN                NaN               NaN  \n",
      "1000162                NaN                NaN               NaN  \n",
      "\n",
      "[1000163 rows x 12 columns]\n"
     ]
    }
   ],
   "source": [
    "tabela1_unique_index = tabela1.set_index('geolocation_state').reset_index()\n",
    "tabela2_unique_index = tabela2.set_index('product_category_name').reset_index()\n",
    "\n",
    "\n",
    "tabelas_concatenadas = pd.concat([tabela1_unique_index, tabela2_unique_index], axis=1)\n",
    "\n",
    "print(tabelas_concatenadas)"
   ]
  },
  {
   "cell_type": "code",
   "execution_count": 54,
   "metadata": {},
   "outputs": [
    {
     "name": "stdout",
     "output_type": "stream",
     "text": [
      "Index(['geolocation_state', 'geolocation_city_padronizada',\n",
      "       'product_category_name', 'product_id', 'product_name_lenght',\n",
      "       'product_description_lenght', 'product_photos_qty', 'product_weight_g',\n",
      "       'product_length_cm', 'product_height_cm', 'product_width_cm'],\n",
      "      dtype='object')\n"
     ]
    }
   ],
   "source": [
    "print(tabelas_concatenadas.columns)\n"
   ]
  },
  {
   "cell_type": "code",
   "execution_count": 63,
   "metadata": {},
   "outputs": [
    {
     "ename": "KeyError",
     "evalue": "\"None of [Index(['SP', 'MG', 'RJ', 'ES'], dtype='object')] are in the [columns]\"",
     "output_type": "error",
     "traceback": [
      "\u001b[1;31m---------------------------------------------------------------------------\u001b[0m",
      "\u001b[1;31mKeyError\u001b[0m                                  Traceback (most recent call last)",
      "\u001b[1;32mUntitled-1.ipynb Cell 7\u001b[0m line \u001b[0;36m1\n\u001b[1;32m----> <a href='vscode-notebook-cell:Untitled-1.ipynb?jupyter-notebook#X10sdW50aXRsZWQ%3D?line=0'>1</a>\u001b[0m tabelas_concatenadas \u001b[39m=\u001b[39m tabelas_concatenadas\u001b[39m.\u001b[39;49mpivot(index\u001b[39m=\u001b[39;49m \u001b[39m'\u001b[39;49m\u001b[39mproduct_category_name\u001b[39;49m\u001b[39m'\u001b[39;49m, columns\u001b[39m=\u001b[39;49m \u001b[39m'\u001b[39;49m\u001b[39mgeolocation_state\u001b[39;49m\u001b[39m'\u001b[39;49m, values\u001b[39m=\u001b[39;49m [\u001b[39m'\u001b[39;49m\u001b[39mSP\u001b[39;49m\u001b[39m'\u001b[39;49m, \u001b[39m'\u001b[39;49m\u001b[39mMG\u001b[39;49m\u001b[39m'\u001b[39;49m, \u001b[39m'\u001b[39;49m\u001b[39mRJ\u001b[39;49m\u001b[39m'\u001b[39;49m, \u001b[39m'\u001b[39;49m\u001b[39mES\u001b[39;49m\u001b[39m'\u001b[39;49m])\n\u001b[0;32m      <a href='vscode-notebook-cell:Untitled-1.ipynb?jupyter-notebook#X10sdW50aXRsZWQ%3D?line=1'>2</a>\u001b[0m \u001b[39mprint\u001b[39m(tabelas_concatenadas[\u001b[39m'\u001b[39m\u001b[39mgeolocation_state\u001b[39m\u001b[39m'\u001b[39m]\u001b[39m.\u001b[39misnull()\u001b[39m.\u001b[39msum())\n\u001b[0;32m      <a href='vscode-notebook-cell:Untitled-1.ipynb?jupyter-notebook#X10sdW50aXRsZWQ%3D?line=3'>4</a>\u001b[0m \u001b[39m#['geolocation_state'].isnull().sum()\u001b[39;00m\n",
      "File \u001b[1;32mc:\\Users\\ticam\\AppData\\Local\\Programs\\Python\\Python311\\Lib\\site-packages\\pandas\\core\\frame.py:9025\u001b[0m, in \u001b[0;36mDataFrame.pivot\u001b[1;34m(self, columns, index, values)\u001b[0m\n\u001b[0;32m   9018\u001b[0m \u001b[39m@Substitution\u001b[39m(\u001b[39m\"\u001b[39m\u001b[39m\"\u001b[39m)\n\u001b[0;32m   9019\u001b[0m \u001b[39m@Appender\u001b[39m(_shared_docs[\u001b[39m\"\u001b[39m\u001b[39mpivot\u001b[39m\u001b[39m\"\u001b[39m])\n\u001b[0;32m   9020\u001b[0m \u001b[39mdef\u001b[39;00m \u001b[39mpivot\u001b[39m(\n\u001b[0;32m   9021\u001b[0m     \u001b[39mself\u001b[39m, \u001b[39m*\u001b[39m, columns, index\u001b[39m=\u001b[39mlib\u001b[39m.\u001b[39mno_default, values\u001b[39m=\u001b[39mlib\u001b[39m.\u001b[39mno_default\n\u001b[0;32m   9022\u001b[0m ) \u001b[39m-\u001b[39m\u001b[39m>\u001b[39m DataFrame:\n\u001b[0;32m   9023\u001b[0m     \u001b[39mfrom\u001b[39;00m \u001b[39mpandas\u001b[39;00m\u001b[39m.\u001b[39;00m\u001b[39mcore\u001b[39;00m\u001b[39m.\u001b[39;00m\u001b[39mreshape\u001b[39;00m\u001b[39m.\u001b[39;00m\u001b[39mpivot\u001b[39;00m \u001b[39mimport\u001b[39;00m pivot\n\u001b[1;32m-> 9025\u001b[0m     \u001b[39mreturn\u001b[39;00m pivot(\u001b[39mself\u001b[39;49m, index\u001b[39m=\u001b[39;49mindex, columns\u001b[39m=\u001b[39;49mcolumns, values\u001b[39m=\u001b[39;49mvalues)\n",
      "File \u001b[1;32mc:\\Users\\ticam\\AppData\\Local\\Programs\\Python\\Python311\\Lib\\site-packages\\pandas\\core\\reshape\\pivot.py:546\u001b[0m, in \u001b[0;36mpivot\u001b[1;34m(data, columns, index, values)\u001b[0m\n\u001b[0;32m    542\u001b[0m \u001b[39mif\u001b[39;00m is_list_like(values) \u001b[39mand\u001b[39;00m \u001b[39mnot\u001b[39;00m \u001b[39misinstance\u001b[39m(values, \u001b[39mtuple\u001b[39m):\n\u001b[0;32m    543\u001b[0m     \u001b[39m# Exclude tuple because it is seen as a single column name\u001b[39;00m\n\u001b[0;32m    544\u001b[0m     values \u001b[39m=\u001b[39m cast(Sequence[Hashable], values)\n\u001b[0;32m    545\u001b[0m     indexed \u001b[39m=\u001b[39m data\u001b[39m.\u001b[39m_constructor(\n\u001b[1;32m--> 546\u001b[0m         data[values]\u001b[39m.\u001b[39m_values, index\u001b[39m=\u001b[39mmultiindex, columns\u001b[39m=\u001b[39mvalues\n\u001b[0;32m    547\u001b[0m     )\n\u001b[0;32m    548\u001b[0m \u001b[39melse\u001b[39;00m:\n\u001b[0;32m    549\u001b[0m     indexed \u001b[39m=\u001b[39m data\u001b[39m.\u001b[39m_constructor_sliced(data[values]\u001b[39m.\u001b[39m_values, index\u001b[39m=\u001b[39mmultiindex)\n",
      "File \u001b[1;32mc:\\Users\\ticam\\AppData\\Local\\Programs\\Python\\Python311\\Lib\\site-packages\\pandas\\core\\frame.py:3899\u001b[0m, in \u001b[0;36mDataFrame.__getitem__\u001b[1;34m(self, key)\u001b[0m\n\u001b[0;32m   3897\u001b[0m     \u001b[39mif\u001b[39;00m is_iterator(key):\n\u001b[0;32m   3898\u001b[0m         key \u001b[39m=\u001b[39m \u001b[39mlist\u001b[39m(key)\n\u001b[1;32m-> 3899\u001b[0m     indexer \u001b[39m=\u001b[39m \u001b[39mself\u001b[39;49m\u001b[39m.\u001b[39;49mcolumns\u001b[39m.\u001b[39;49m_get_indexer_strict(key, \u001b[39m\"\u001b[39;49m\u001b[39mcolumns\u001b[39;49m\u001b[39m\"\u001b[39;49m)[\u001b[39m1\u001b[39m]\n\u001b[0;32m   3901\u001b[0m \u001b[39m# take() does not accept boolean indexers\u001b[39;00m\n\u001b[0;32m   3902\u001b[0m \u001b[39mif\u001b[39;00m \u001b[39mgetattr\u001b[39m(indexer, \u001b[39m\"\u001b[39m\u001b[39mdtype\u001b[39m\u001b[39m\"\u001b[39m, \u001b[39mNone\u001b[39;00m) \u001b[39m==\u001b[39m \u001b[39mbool\u001b[39m:\n",
      "File \u001b[1;32mc:\\Users\\ticam\\AppData\\Local\\Programs\\Python\\Python311\\Lib\\site-packages\\pandas\\core\\indexes\\base.py:6114\u001b[0m, in \u001b[0;36mIndex._get_indexer_strict\u001b[1;34m(self, key, axis_name)\u001b[0m\n\u001b[0;32m   6111\u001b[0m \u001b[39melse\u001b[39;00m:\n\u001b[0;32m   6112\u001b[0m     keyarr, indexer, new_indexer \u001b[39m=\u001b[39m \u001b[39mself\u001b[39m\u001b[39m.\u001b[39m_reindex_non_unique(keyarr)\n\u001b[1;32m-> 6114\u001b[0m \u001b[39mself\u001b[39;49m\u001b[39m.\u001b[39;49m_raise_if_missing(keyarr, indexer, axis_name)\n\u001b[0;32m   6116\u001b[0m keyarr \u001b[39m=\u001b[39m \u001b[39mself\u001b[39m\u001b[39m.\u001b[39mtake(indexer)\n\u001b[0;32m   6117\u001b[0m \u001b[39mif\u001b[39;00m \u001b[39misinstance\u001b[39m(key, Index):\n\u001b[0;32m   6118\u001b[0m     \u001b[39m# GH 42790 - Preserve name from an Index\u001b[39;00m\n",
      "File \u001b[1;32mc:\\Users\\ticam\\AppData\\Local\\Programs\\Python\\Python311\\Lib\\site-packages\\pandas\\core\\indexes\\base.py:6175\u001b[0m, in \u001b[0;36mIndex._raise_if_missing\u001b[1;34m(self, key, indexer, axis_name)\u001b[0m\n\u001b[0;32m   6173\u001b[0m     \u001b[39mif\u001b[39;00m use_interval_msg:\n\u001b[0;32m   6174\u001b[0m         key \u001b[39m=\u001b[39m \u001b[39mlist\u001b[39m(key)\n\u001b[1;32m-> 6175\u001b[0m     \u001b[39mraise\u001b[39;00m \u001b[39mKeyError\u001b[39;00m(\u001b[39mf\u001b[39m\u001b[39m\"\u001b[39m\u001b[39mNone of [\u001b[39m\u001b[39m{\u001b[39;00mkey\u001b[39m}\u001b[39;00m\u001b[39m] are in the [\u001b[39m\u001b[39m{\u001b[39;00maxis_name\u001b[39m}\u001b[39;00m\u001b[39m]\u001b[39m\u001b[39m\"\u001b[39m)\n\u001b[0;32m   6177\u001b[0m not_found \u001b[39m=\u001b[39m \u001b[39mlist\u001b[39m(ensure_index(key)[missing_mask\u001b[39m.\u001b[39mnonzero()[\u001b[39m0\u001b[39m]]\u001b[39m.\u001b[39munique())\n\u001b[0;32m   6178\u001b[0m \u001b[39mraise\u001b[39;00m \u001b[39mKeyError\u001b[39;00m(\u001b[39mf\u001b[39m\u001b[39m\"\u001b[39m\u001b[39m{\u001b[39;00mnot_found\u001b[39m}\u001b[39;00m\u001b[39m not in index\u001b[39m\u001b[39m\"\u001b[39m)\n",
      "\u001b[1;31mKeyError\u001b[0m: \"None of [Index(['SP', 'MG', 'RJ', 'ES'], dtype='object')] are in the [columns]\""
     ]
    }
   ],
   "source": [
    "tabelas_concatenadas = tabelas_concatenadas.pivot(index= 'product_category_name', columns= 'geolocation_state', values= ['SP', 'MG', 'RJ', 'ES'])\n",
    "print(tabelas_concatenadas)\n",
    "\n",
    "#['geolocation_state'].isnull().sum()"
   ]
  }
 ],
 "metadata": {
  "kernelspec": {
   "display_name": "Python 3",
   "language": "python",
   "name": "python3"
  },
  "language_info": {
   "codemirror_mode": {
    "name": "ipython",
    "version": 3
   },
   "file_extension": ".py",
   "mimetype": "text/x-python",
   "name": "python",
   "nbconvert_exporter": "python",
   "pygments_lexer": "ipython3",
   "version": "3.11.5"
  }
 },
 "nbformat": 4,
 "nbformat_minor": 2
}
