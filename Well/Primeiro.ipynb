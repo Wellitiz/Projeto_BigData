{
 "cells": [
  {
   "cell_type": "markdown",
   "metadata": {},
   "source": [
    "## **Instalando Kaggle**\n",
    "\n",
    "O comando \"!pip install kaggle\" é utilizado para instalar o pacote Python chamado \"kaggle\" usando o gerenciador de pacotes pip."
   ]
  },
  {
   "cell_type": "code",
   "execution_count": 2,
   "metadata": {},
   "outputs": [
    {
     "name": "stdout",
     "output_type": "stream",
     "text": [
      "Requirement already satisfied: kaggle in c:\\users\\ton98\\appdata\\local\\programs\\python\\python312\\lib\\site-packages (1.5.16)\n",
      "Requirement already satisfied: six>=1.10 in c:\\users\\ton98\\appdata\\local\\programs\\python\\python312\\lib\\site-packages (from kaggle) (1.16.0)\n",
      "Requirement already satisfied: certifi in c:\\users\\ton98\\appdata\\local\\programs\\python\\python312\\lib\\site-packages (from kaggle) (2023.7.22)\n",
      "Requirement already satisfied: python-dateutil in c:\\users\\ton98\\appdata\\local\\programs\\python\\python312\\lib\\site-packages (from kaggle) (2.8.2)\n",
      "Requirement already satisfied: requests in c:\\users\\ton98\\appdata\\local\\programs\\python\\python312\\lib\\site-packages (from kaggle) (2.31.0)\n",
      "Requirement already satisfied: tqdm in c:\\users\\ton98\\appdata\\local\\programs\\python\\python312\\lib\\site-packages (from kaggle) (4.66.1)\n",
      "Requirement already satisfied: python-slugify in c:\\users\\ton98\\appdata\\local\\programs\\python\\python312\\lib\\site-packages (from kaggle) (8.0.1)\n",
      "Requirement already satisfied: urllib3 in c:\\users\\ton98\\appdata\\local\\programs\\python\\python312\\lib\\site-packages (from kaggle) (2.1.0)\n",
      "Requirement already satisfied: bleach in c:\\users\\ton98\\appdata\\local\\programs\\python\\python312\\lib\\site-packages (from kaggle) (6.1.0)\n",
      "Requirement already satisfied: webencodings in c:\\users\\ton98\\appdata\\local\\programs\\python\\python312\\lib\\site-packages (from bleach->kaggle) (0.5.1)\n",
      "Requirement already satisfied: text-unidecode>=1.3 in c:\\users\\ton98\\appdata\\local\\programs\\python\\python312\\lib\\site-packages (from python-slugify->kaggle) (1.3)\n",
      "Requirement already satisfied: charset-normalizer<4,>=2 in c:\\users\\ton98\\appdata\\local\\programs\\python\\python312\\lib\\site-packages (from requests->kaggle) (3.3.2)\n",
      "Requirement already satisfied: idna<4,>=2.5 in c:\\users\\ton98\\appdata\\local\\programs\\python\\python312\\lib\\site-packages (from requests->kaggle) (3.4)\n",
      "Requirement already satisfied: colorama in c:\\users\\ton98\\appdata\\local\\programs\\python\\python312\\lib\\site-packages (from tqdm->kaggle) (0.4.6)\n",
      "Note: you may need to restart the kernel to use updated packages.\n"
     ]
    }
   ],
   "source": [
    "pip install kaggle"
   ]
  },
  {
   "cell_type": "markdown",
   "metadata": {},
   "source": [
    "## **Importando chave API Kaggle**\n",
    "\n",
    "Neste ponto é necessario gerar a chave no perfil do Kaggle. Vai ser feito o dowload de um arquivo .jason.\n",
    "A partir disso o codigo abaixo seleciona o arquivo e coloca na pasta correta.\n",
    "\n",
    "#### **Importação de Módulos**\n",
    "\"os\": Fornece funções relacionadas ao sistema operacional.  \n",
    "\"shutil\": Fornece operações de alto nível para manipulação de arquivos.  \n",
    "\"Path\" é uma classe do módulo pathlib usada para manipulação de caminhos de forma mais orientada a objetos.  \n",
    "\n",
    "#### **Definição da Função 'upload_kaggle_token'**\n",
    "\"notebook_dir = Path().resolve()\": Obtém o diretório do notebook atual usando Path().resolve().  \n",
    "\"kaggle_token_dir = notebook_dir / 'Kaggle Token'\": Usa a classe Path para construir o caminho para a pasta \"Kaggle Token\" no diretório do notebook.  \n",
    "\"file_path = kaggle_token_dir / 'kaggle.json'\": Constrói o caminho completo para o arquivo kaggle.json dentro da pasta \"Kaggle Token\".  \n",
    "\"if not file_path.exists()\": Verifica se o arquivo kaggle.json existe na pasta \"Kaggle Token\". Se não existir, imprime uma mensagem e encerra a função.  \n",
    "\"user_dir = Path.home()\": Obtém o diretório do usuário usando Path.home().  \n",
    "\"kaggle_dir = user_dir / '.kaggle'\": Constrói o caminho para o diretório .kaggle no diretório do usuário.  \n",
    "\"if not kaggle_dir.exists()\": Verifica se o diretório .kaggle não existe e, se não existir, cria-o.\n",
    "\"shutil.copy(file_path, kaggle_dir)\": Move o arquivo kaggle.json para o diretório .kaggle.  \n",
    "\"print(\"Arquivo 'kaggle.json' movido com sucesso para o diretório '.kaggle'.\")\" Imprime uma mensagem indicando que a operação foi bem-sucedida.  \n",
    "\"upload_kaggle_token()\": Chama a função upload_kaggle_token para executar todo o processo."
   ]
  },
  {
   "cell_type": "code",
   "execution_count": 3,
   "metadata": {},
   "outputs": [
    {
     "name": "stdout",
     "output_type": "stream",
     "text": [
      "Arquivo 'kaggle.json' movido com sucesso para o diretório '.kaggle'.\n"
     ]
    }
   ],
   "source": [
    "import os\n",
    "import shutil\n",
    "from pathlib import Path\n",
    "\n",
    "def upload_kaggle_token():\n",
    "    # Obtém o diretório do notebook\n",
    "    notebook_dir = Path().resolve()\n",
    "\n",
    "    # Constrói o caminho para a pasta \"Kaggle Token\"\n",
    "    kaggle_token_dir = notebook_dir / 'Kaggle Token'\n",
    "\n",
    "    # Obtém o caminho completo para o arquivo kaggle.json\n",
    "    file_path = kaggle_token_dir / 'kaggle.json'\n",
    "\n",
    "    # Verifica se o arquivo existe antes de prosseguir\n",
    "    if not file_path.exists():\n",
    "        print(\"O arquivo 'kaggle.json' não foi encontrado na pasta 'Kaggle Token'.\")\n",
    "        return\n",
    "\n",
    "    # Obtém o diretório do usuário\n",
    "    user_dir = Path.home()\n",
    "\n",
    "    # Constrói o caminho para o diretório .kaggle\n",
    "    kaggle_dir = user_dir / '.kaggle'\n",
    "\n",
    "    # Cria o diretório se não existir\n",
    "    if not kaggle_dir.exists():\n",
    "        kaggle_dir.mkdir()\n",
    "\n",
    "    # Move o arquivo para o local correto\n",
    "    shutil.copy(file_path, kaggle_dir)\n",
    "    print(\"Arquivo 'kaggle.json' movido com sucesso para o diretório '.kaggle'.\")\n",
    "\n",
    "upload_kaggle_token()"
   ]
  },
  {
   "cell_type": "markdown",
   "metadata": {},
   "source": [
    "## **Importando Kaggle**\n",
    "\n",
    "O comando import kaggle em Python é utilizado para importar a biblioteca Kaggle, que fornece uma interface de linha de comando (CLI) para interagir com a plataforma Kaggle diretamente do seu ambiente de desenvolvimento. Ao executar import kaggle, você está basicamente carregando as funcionalidades disponíveis na biblioteca Kaggle no seu script ou ambiente de programação. Isso permite que você utilize as diversas funcionalidades que a biblioteca oferece, como baixar conjuntos de dados, enviar suas soluções para competições, ou realizar outras operações relacionadas à plataforma Kaggle."
   ]
  },
  {
   "cell_type": "code",
   "execution_count": null,
   "metadata": {},
   "outputs": [],
   "source": [
    "import kaggle"
   ]
  },
  {
   "cell_type": "markdown",
   "metadata": {},
   "source": [
    "## **Importando KaggleApi**\n",
    "\n",
    "O comando from kaggle.api.kaggle_api_extended import KaggleApi está importando a classe KaggleApi do módulo kaggle_api_extended do pacote kaggle.api no Python.  \n",
    "A classe KaggleApi fornece métodos que permitem autenticação, upload e download de conjuntos de dados, listagem de conjuntos de dados, competições, entre outras funcionalidades relacionadas ao Kaggle."
   ]
  },
  {
   "cell_type": "code",
   "execution_count": null,
   "metadata": {},
   "outputs": [],
   "source": [
    "from kaggle.api.kaggle_api_extended import KaggleApi"
   ]
  },
  {
   "cell_type": "markdown",
   "metadata": {},
   "source": [
    "## **Download do conjunto de dados do Kaggle**\n",
    "\n",
    "Esse código em Python realiza o download de um conjunto de dados do Kaggle usando a Kaggle CLI (Command-Line Interface) por meio do módulo \"subprocess\".\n",
    "\n",
    "O módulo subprocess é utilizado para chamar processos externos a partir do seu script Python.\n",
    "\n",
    "A função download_kaggle_dataset recebe dois argumentos: dataset (o identificador do conjunto de dados no Kaggle) e destination_path (o caminho onde o conjunto de dados será baixado).\n",
    "Utiliza o subprocess.run para executar o comando kaggle datasets download -d <dataset> -p <destination_path>."
   ]
  },
  {
   "cell_type": "code",
   "execution_count": null,
   "metadata": {},
   "outputs": [],
   "source": [
    "import subprocess\n",
    "\n",
    "def download_kaggle_dataset(dataset, destination_path='.'):\n",
    "    subprocess.run(['kaggle', 'datasets', 'download', '-d', dataset, '-p', destination_path])\n",
    "\n",
    "# Exemplo de uso sem especificar um caminho de destino\n",
    "download_kaggle_dataset('olistbr/brazilian-ecommerce')\n"
   ]
  },
  {
   "cell_type": "markdown",
   "metadata": {},
   "source": [
    "## **Extraindo Arquivos**\n",
    "\n",
    "O código abaixo extrai o conteúdo de um arquivo ZIP para um diretório específico e, em seguida, remove o próprio arquivo ZIP, mantendo apenas os dados descompactados no diretório 'brazilian_ecommerce'.\n",
    "\n",
    "A linha de código import \"zipfile\" em Python importa o módulo zipfile. O módulo zipfile é parte da biblioteca padrão do Python e fornece funcionalidades para trabalhar com arquivos ZIP.\n",
    "\n",
    "O módulo \"os\" em Python fornece uma maneira de interagir com o sistema operacional subjacente, permitindo que você execute operações relacionadas ao sistema de arquivos, manipulação de caminhos, variáveis de ambiente, entre outras funcionalidades."
   ]
  },
  {
   "cell_type": "code",
   "execution_count": null,
   "metadata": {},
   "outputs": [],
   "source": [
    "import zipfile\n",
    "import os\n",
    "\n",
    "# Caminho para o arquivo ZIP e diretório de extração\n",
    "zip_file_path = 'brazilian-ecommerce.zip'\n",
    "extracted_dir = 'brazilian_ecommerce'\n",
    "\n",
    "# Descompactando o conjunto de dados\n",
    "with zipfile.ZipFile(zip_file_path, 'r') as zip_ref:\n",
    "    zip_ref.extractall(extracted_dir)\n",
    "\n",
    "# Removendo o arquivo ZIP após a extração\n",
    "os.remove(zip_file_path)"
   ]
  }
 ],
 "metadata": {
  "kernelspec": {
   "display_name": "Python 3",
   "language": "python",
   "name": "python3"
  },
  "language_info": {
   "codemirror_mode": {
    "name": "ipython",
    "version": 3
   },
   "file_extension": ".py",
   "mimetype": "text/x-python",
   "name": "python",
   "nbconvert_exporter": "python",
   "pygments_lexer": "ipython3",
   "version": "3.12.0"
  }
 },
 "nbformat": 4,
 "nbformat_minor": 2
}
