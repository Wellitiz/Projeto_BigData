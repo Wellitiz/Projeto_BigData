{
 "cells": [
  {
   "cell_type": "code",
   "execution_count": 15,
   "metadata": {},
   "outputs": [
    {
     "name": "stdout",
     "output_type": "stream",
     "text": [
      "Categorias com os fretes mais caros:\n",
      "product_category_name\n",
      "pcs                            1147.486231\n",
      "portateis_casa_forno_e_cafe     674.601370\n",
      "eletrodomesticos_2              511.725195\n",
      "agro_industria_e_comercio       369.918932\n",
      "instrumentos_musicais           310.579293\n",
      "Name: total_cost, dtype: float64\n",
      "\n",
      "Categorias com os fretes mais baratos:\n",
      "product_category_name\n",
      "fashion_roupa_feminina    71.520889\n",
      "cds_dvds_musicais         68.213571\n",
      "fraldas_higiene           55.302432\n",
      "flores                    48.451818\n",
      "casa_conforto_2           39.019333\n",
      "Name: total_cost, dtype: float64\n"
     ]
    }
   ],
   "source": [
    "import pandas as pd\n",
    "\n",
    "\n",
    "order_items = pd.read_csv('csv_olist_order_items_dataset.csv')\n",
    "products = pd.read_csv('olist_products_dataset.csv')\n",
    "orders = pd.read_csv('t_olist_orders_dataset.csv')\n",
    "\n",
    "\n",
    "merged_data = pd.merge(order_items, products, on='product_id', how='inner')\n",
    "merged_data = pd.merge(merged_data, orders, on='order_id', how='inner')\n",
    "\n",
    "\n",
    "merged_data['total_cost'] = merged_data['price'] + merged_data['freight_value']\n",
    "\n",
    "\n",
    "avg_cost_by_category = merged_data.groupby('product_category_name')['total_cost'].mean()\n",
    "\n",
    "\n",
    "sorted_categories = avg_cost_by_category.sort_values(ascending=False)\n",
    "\n",
    "\n",
    "print(\"Categorias com os fretes mais caros:\")\n",
    "print(sorted_categories.head())\n",
    "\n",
    "print(\"\\nCategorias com os fretes mais baratos:\")\n",
    "print(sorted_categories.tail())"
   ]
  },
  {
   "cell_type": "code",
   "execution_count": null,
   "metadata": {},
   "outputs": [],
   "source": []
  }
 ],
 "metadata": {
  "kernelspec": {
   "display_name": "Python 3",
   "language": "python",
   "name": "python3"
  },
  "language_info": {
   "codemirror_mode": {
    "name": "ipython",
    "version": 3
   },
   "file_extension": ".py",
   "mimetype": "text/x-python",
   "name": "python",
   "nbconvert_exporter": "python",
   "pygments_lexer": "ipython3",
   "version": "3.11.4"
  }
 },
 "nbformat": 4,
 "nbformat_minor": 2
}
