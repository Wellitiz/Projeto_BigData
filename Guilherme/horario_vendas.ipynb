{
 "cells": [
  {
   "cell_type": "code",
   "execution_count": 34,
   "metadata": {},
   "outputs": [
    {
     "name": "stderr",
     "output_type": "stream",
     "text": [
      "C:\\Users\\GuiiA\\AppData\\Local\\Temp\\ipykernel_10096\\2985219427.py:10: UserWarning: Could not infer format, so each element will be parsed individually, falling back to `dateutil`. To ensure parsing is consistent and as-expected, please specify a format.\n",
      "  completed_orders['order_approved_at_hour'] = pd.to_datetime(completed_orders['order_approved_at_hour'], errors='coerce').dt.hour\n"
     ]
    },
    {
     "name": "stdout",
     "output_type": "stream",
     "text": [
      "Número de vendas à madrugada: 19911\n",
      "Número de vendas à manhã: 18147\n",
      "Número de vendas à tarde: 31258\n",
      "Número de vendas à noite: 27139\n",
      "\n",
      "O horário com o maior número de vendas foi: tarde com 31258 vendas.\n"
     ]
    }
   ],
   "source": [
    "import pandas as pd\n",
    "\n",
    "\n",
    "orders = pd.read_csv('t_olist_orders_dataset.csv')\n",
    "\n",
    "\n",
    "completed_orders = orders[orders['order_status'] == 'delivered'].copy()  \n",
    "\n",
    "\n",
    "completed_orders['order_approved_at_hour'] = pd.to_datetime(completed_orders['order_approved_at_hour'], errors='coerce').dt.hour\n",
    "\n",
    "\n",
    "def map_period(hour):\n",
    "    if 0 <= hour < 6:\n",
    "        return 'Madrugada'\n",
    "    elif 6 <= hour < 12:\n",
    "        return 'Manhã'\n",
    "    elif 12 <= hour < 18:\n",
    "        return 'Tarde'\n",
    "    else:\n",
    "        return 'Noite'\n",
    "\n",
    "\n",
    "completed_orders['period'] = completed_orders['order_approved_at_hour'].apply(map_period)\n",
    "\n",
    "\n",
    "all_periods = ['Madrugada', 'Manhã', 'Tarde', 'Noite']\n",
    "\n",
    "\n",
    "sales_by_period = completed_orders['period'].value_counts().reindex(all_periods, fill_value=0)\n",
    "\n",
    "\n",
    "for period, count in sales_by_period.items():\n",
    "    print(f'Número de vendas à {period.lower()}: {count}')\n",
    "\n",
    "\n",
    "max_period = sales_by_period.idxmax()\n",
    "max_count = sales_by_period.max()\n",
    "print(f'\\nO horário com o maior número de vendas foi: {max_period.lower()} com {max_count} vendas.')"
   ]
  }
 ],
 "metadata": {
  "kernelspec": {
   "display_name": "Python 3",
   "language": "python",
   "name": "python3"
  },
  "language_info": {
   "codemirror_mode": {
    "name": "ipython",
    "version": 3
   },
   "file_extension": ".py",
   "mimetype": "text/x-python",
   "name": "python",
   "nbconvert_exporter": "python",
   "pygments_lexer": "ipython3",
   "version": "3.11.4"
  }
 },
 "nbformat": 4,
 "nbformat_minor": 2
}
