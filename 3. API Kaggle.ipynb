{
 "cells": [
  {
   "cell_type": "markdown",
   "metadata": {},
   "source": [
    "# **API Kaggle**\n",
    "\n",
    "Nesta etapa iremos explicar como conectar a API do Kaggle para realizar o dowload do dataset que será utilizado no projeto."
   ]
  },
  {
   "cell_type": "markdown",
   "metadata": {},
   "source": [
    "## **Cadastrar-se no Kaggle**\n",
    "Para avançar no projeto é necessario realizar o cadastro na plataforma do kaggle para assim ter acesso a chave API key e conectar ao banco.\n",
    "\n",
    "#### **1. Acesse o Site:** \n",
    "* Vá para https://www.kaggle.com/ em seu navegador.\n",
    "\n",
    "#### **2. Criar uma Conta:** \n",
    "* Se você não tiver uma conta, clique em \"Sign Up\" para criar uma nova conta. Preencha as informações necessárias.\n",
    "\n",
    "#### **3. Confirmação de E-mail:** \n",
    "* Após o registro, verifique o seu e-mail e siga as instruções para confirmar a sua conta.\n",
    "\n",
    "\n",
    "\n",
    "\n",
    "## **Baixar a Chave de Acesso (API Key):**\n",
    "Para avançar no projeto é necessario realizar o cadastro na plataforma do kaggle para assim ter acesso a chave API key e conectar ao banco.\n",
    "\n",
    "#### **1. Faça Login:** \n",
    "* Faça login na sua conta Kaggle.\n",
    "\n",
    "#### **2. Acesse as Configurações:** \n",
    "* Clique na sua foto de perfil no canto superior direito e vá para \"Account\".\n",
    "\n",
    "#### **3. Role para Baixo até API:** \n",
    "* Role para baixo até encontrar a seção \"API\" nas configurações da conta.\n",
    "\n",
    "#### **4. Clique em \"Create New API Token\":** \n",
    "* Clique no botão \"Create New API Token\". Isso baixará um arquivo chamado **kaggle.json** para o seu computador.\n",
    "\n",
    "\n",
    "\n",
    "\n",
    "## **Configurar a Chave de Acesso no Ambiente Local:**\n",
    "Para avançar no projeto é necessario realizar o cadastro na plataforma do kaggle para assim ter acesso a chave API key e conectar ao banco.\n",
    "\n",
    "#### **1. Localização do Arquivo:** \n",
    "* Mova ou copie o arquivo kaggle.json para o diretório ~/.kaggle/ no seu sistema.\n",
    "\n",
    "#### **2. Verificação:** \n",
    "* Verifique se o arquivo kaggle.json está no diretório ~/.kaggle/."
   ]
  },
  {
   "cell_type": "markdown",
   "metadata": {},
   "source": [
    "# **Instalando a biblioteca do Kaggle**\n",
    "Para iniciar precisamos realizar a instalação do Kaggle.\n",
    "\n",
    "Este comando é utilizado em ambientes de desenvolvimento Python, como o Jupyter Notebook, para instalar a biblioteca kaggle através do gerenciador de pacotes pip. A biblioteca kaggle é uma ferramenta de linha de comando que facilita o download e upload de conjuntos de dados no Kaggle, uma plataforma online popular para competições de ciência de dados e aprendizado de máquina.\n",
    "\n",
    "É inserido o comando \"!\" antes do comando para dizer ao caderno do Jupyter notebook que esse comando se refere ao terminal."
   ]
  },
  {
   "cell_type": "code",
   "execution_count": null,
   "metadata": {},
   "outputs": [],
   "source": [
    "!pip install kaggle"
   ]
  },
  {
   "cell_type": "markdown",
   "metadata": {},
   "source": [
    "## **Colocando chave na Pasta**\n",
    "Para avançar é necessario que a API Key esteja dentro da pasta .kaggle na pasta raiz de usuario do sistema.\n",
    "É possivel realizar isso manualemtne mas podemos usar o codigo a seguir para automatizar o processo.\n",
    "\n",
    "### **Importação de Módulos**\n",
    "* **tkinter:** Importa a classe Tk do módulo tkinter para criar uma janela de diálogo.\n",
    "* **os:** Fornece uma interface para interagir com o sistema operacional subjacente.\n",
    "* **shutil:** É uma extensão do módulo os e fornece operações de alto nível para manipulação de arquivos e diretórios.\n",
    "\n",
    "### **Importação de Módulos**\n",
    "* **tkinter:** Importa a classe Tk do módulo tkinter para criar uma janela de diálogo.\n",
    "* **os:** Fornece uma interface para interagir com o sistema operacional subjacente.\n",
    "* **shutil:** É uma extensão do módulo os e fornece operações de alto nível para manipulação de arquivos e diretórios.\n",
    "* **tkinter.filedialog:** from tkinter.filedialog import askopenfilename: Importa a função askopenfilename do módulo tkinter.filedialog, que é utilizada para abrir uma janela de diálogo para selecionar um arquivo.\n",
    "\n",
    "### **Definição da Função 'upload_kaggle_token'**\n",
    "* **Tk().withdraw():** Cria e esconde uma instância da janela Tkinter.\n",
    "* **file_path = askopenfilename(title=\"kaggle.json\"):** Abre uma janela de diálogo para selecionar o arquivo kaggle.json e armazena o caminho do arquivo em file_path.\n",
    "* **user_dir = os.path.expanduser(\"~\"):** Obtém o diretório do usuário.\n",
    "* **kaggle_dir = os.path.join(user_dir, '.kaggle'):** Constrói o caminho para o diretório .kaggle.\n",
    "* **if not os.path.exists(kaggle_dir):** os.makedirs(kaggle_dir): Cria o diretório .kaggle se ele não existir.\n",
    "* **shutil.copy(file_path, kaggle_dir):** Move o arquivo kaggle.json para o diretório .kaggle.\n",
    "* **print(\"Arquivo 'kaggle.json' movido com sucesso para o diretório '.kaggle'.\"):** Exibe uma mensagem indicando que o arquivo foi movido com sucesso.\n",
    "* **upload_kaggle_token():** Chama a função upload_kaggle_token para executar o script."
   ]
  },
  {
   "cell_type": "code",
   "execution_count": null,
   "metadata": {},
   "outputs": [],
   "source": [
    "from tkinter import Tk\n",
    "from tkinter.filedialog import askopenfilename\n",
    "import os\n",
    "import shutil\n",
    "\n",
    "def upload_kaggle_token():\n",
    "    Tk().withdraw()  # Mantém uma janela Tkinter oculta\n",
    "    file_path = askopenfilename(title=\"kaggle.json\")\n",
    "\n",
    "    # Obtém o diretório do usuário\n",
    "    user_dir = os.path.expanduser(\"~\")\n",
    "\n",
    "    # Constrói o caminho para o diretório .kaggle\n",
    "    kaggle_dir = os.path.join(user_dir, '.kaggle')\n",
    "\n",
    "    # Cria o diretório se não existir\n",
    "    if not os.path.exists(kaggle_dir):\n",
    "        os.makedirs(kaggle_dir)\n",
    "\n",
    "    # Move o arquivo para o local correto\n",
    "    shutil.copy(file_path, kaggle_dir)\n",
    "    print(\"Arquivo 'kaggle.json' movido com sucesso para o diretório '.kaggle'.\")\n",
    "\n",
    "upload_kaggle_token()"
   ]
  },
  {
   "cell_type": "markdown",
   "metadata": {},
   "source": [
    "## **Importando a biblioteca Kaggle no projeto**\n",
    "\n",
    "O código import kaggle serve para importar o pacote (biblioteca) kaggle no seu ambiente Python. Após a importação, você pode utilizar as funcionalidades disponíveis nessa biblioteca para interagir com a plataforma Kaggle, como baixar conjuntos de dados, participar de competições, enviar resultados, entre outras operações.\n",
    "\n",
    "Todas as vezes que instalamos uma biblioteca, necessitamos importá-las no python, para que os códigos dessa biblioteca possam ser reutilizados neste código que estamos utilizando aqui."
   ]
  },
  {
   "cell_type": "code",
   "execution_count": 1,
   "metadata": {},
   "outputs": [],
   "source": [
    "import kaggle"
   ]
  },
  {
   "cell_type": "markdown",
   "metadata": {},
   "source": [
    "## **Importando KaggleApi**\n",
    "\n",
    "O comando from kaggle.api.kaggle_api_extended import KaggleApi está importando a classe KaggleApi do módulo kaggle_api_extended do pacote kaggle.api no Python.  \n",
    "A classe KaggleApi fornece métodos que permitem autenticação, upload e download de conjuntos de dados, listagem de conjuntos de dados, competições, entre outras funcionalidades relacionadas ao Kaggle."
   ]
  },
  {
   "cell_type": "code",
   "execution_count": 2,
   "metadata": {},
   "outputs": [],
   "source": [
    "from kaggle.api.kaggle_api_extended import KaggleApi"
   ]
  },
  {
   "cell_type": "markdown",
   "metadata": {},
   "source": [
    "### **Criando as instâncias de cada método**\n",
    "\n",
    "Os dois trechos de código que você forneceu são usados para criar uma instância da classe KaggleApi e autenticar essa instância para permitir o acesso à API do Kaggle.\n",
    "\n",
    "api = KaggleApi(): Isso cria uma instância da classe KaggleApi e a atribui à variável api. Essa instância será usada para interagir com a API do Kaggle.\n",
    "\n",
    "api.authenticate(): Este método é chamado para autenticar a instância api. A autenticação é um passo necessário para garantir que suas solicitações à API sejam autorizadas. Quando você chama authenticate(), normalmente será solicitado que você forneça suas credenciais do Kaggle, como nome de usuário e senha, ou token de API."
   ]
  },
  {
   "cell_type": "code",
   "execution_count": 3,
   "metadata": {},
   "outputs": [],
   "source": [
    "api = KaggleApi()\n",
    "api.authenticate()"
   ]
  },
  {
   "cell_type": "markdown",
   "metadata": {},
   "source": [
    "### **Setando a variável com o nome da base que queremos efetuar o download**\n",
    "\n",
    "Esse é um conjunto de dados brasileiro de e-commerce hospedado no Kaggle. Se você quiser baixar esse conjunto de dados usando a biblioteca kaggle em Python, você pode usar o método dataset_download_files. "
   ]
  },
  {
   "cell_type": "code",
   "execution_count": 4,
   "metadata": {},
   "outputs": [],
   "source": [
    "dataset_name = 'olistbr/brazilian-ecommerce'"
   ]
  },
  {
   "cell_type": "markdown",
   "metadata": {},
   "source": [
    "### **Criando o diretório padrão para baixar o arquivo**\n",
    "\n",
    "Esse diretório será baixado o arquivo via conexão com a API, na linha de comando logo abaixo:"
   ]
  },
  {
   "cell_type": "code",
   "execution_count": 7,
   "metadata": {},
   "outputs": [],
   "source": [
    "download_path = './Files/Dataset'"
   ]
  },
  {
   "cell_type": "markdown",
   "metadata": {},
   "source": [
    "### **Baixando o arquivo da API**\n",
    "\n",
    "dataset_download_files: Este é o método da classe KaggleApi usado para baixar os arquivos de um conjunto de dados do Kaggle.\n",
    "\n",
    "dataset_name: É o nome do conjunto de dados que você deseja baixar. No seu caso, é 'olistbr/brazilian-ecommerce'.\n",
    "\n",
    "path=download_path: Este é um argumento opcional que especifica o diretório para onde os arquivos do conjunto de dados serão baixados. No seu caso, é download_path, que foi definido como ./dataset. Se o diretório não existir, o método tentará criar um.\n",
    "\n",
    "unzip=True: Este é outro argumento opcional que indica se os arquivos baixados devem ser descompactados após o download. No seu caso, é True, o que significa que os arquivos serão descompactados."
   ]
  },
  {
   "cell_type": "code",
   "execution_count": 8,
   "metadata": {},
   "outputs": [],
   "source": [
    "api.dataset_download_files(dataset_name, path=download_path, unzip=True)"
   ]
  },
  {
   "cell_type": "markdown",
   "metadata": {},
   "source": [
    "Com esta etapa concluida estamos prontos para avançar para a identificação dos dados do banco."
   ]
  }
 ],
 "metadata": {
  "kernelspec": {
   "display_name": "Python 3",
   "language": "python",
   "name": "python3"
  },
  "language_info": {
   "codemirror_mode": {
    "name": "ipython",
    "version": 3
   },
   "file_extension": ".py",
   "mimetype": "text/x-python",
   "name": "python",
   "nbconvert_exporter": "python",
   "pygments_lexer": "ipython3",
   "version": "3.11.5"
  }
 },
 "nbformat": 4,
 "nbformat_minor": 2
}
